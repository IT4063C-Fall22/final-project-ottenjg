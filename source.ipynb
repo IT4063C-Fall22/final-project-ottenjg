{
 "cells": [
  {
   "cell_type": "markdown",
   "metadata": {},
   "source": [
    "# Project Title"
   ]
  },
  {
   "cell_type": "markdown",
   "metadata": {},
   "source": [
    "## Topic\n",
    "*What problem are you (or your stakeholder) trying to address?*\n",
    "<br>\n",
    "The effect education has on crime rates in Cincinnati\n",
    "\n",
    "\n",
    "## Project Question\n",
    "*What specific question are you seeking to answer with this project?*\n",
    "*This is not the same as the questions you ask to limit the scope of the project.*\n",
    "<br>\n",
    "What is the coorelation education has to rising or falling crime rates in Cincinnati?\n",
    "<br>\n",
    "Which areas show the biggest coorelation between education and crime rates, and which ones show the least?\n",
    "\n",
    "\n",
    "## What would an answer look like?\n",
    "*What is your hypothesized answer to your question?*\n",
    "<br>\n",
    "I would still be using geographical charts and models like heat maps. I would use line graphs to compare education level/investment amounts to crime rates. Bar charts would be useful as well. \n",
    "<br>\n",
    "An answer I want to see or atleast an outcome would be to help create solutions to crime rates using education. \n",
    "\n",
    "\n",
    "## Data Sources\n",
    "*What 3 data sources have you identified for this project?*\n",
    "<h3>Crimes committed in Cincinnati. Includes location data in particular. API</h3>\n",
    "<br>\n",
    "https://data.cincinnati-oh.gov/safety/PDI-Police-Data-Initiative-Crime-Incidents/k59e-2pvf\n",
    "<br>\n",
    "<h3>Hamilton Count School Locations. API</h3>\n",
    "<br>\n",
    "https://data-cagisportal.opendata.arcgis.com/datasets/countywide-school-locations/explore?showTable=true\n",
    "<br>\n",
    "<h3>Hamilton county school ratings.</h3>\n",
    "<br>\n",
    "https://infogram.com/ohio-report-card-2022-1hd12yx1ykkow6k\n",
    "<h3>Cincinnati Census Data. database</h3>\n",
    "<br>\n",
    "https://www.cincinnati-oh.gov/planning/maps-and-data/census-demographics/2020-census-data/\n",
    "<br>\n",
    "\n",
    "*How are you going to relate these datasets?*\n",
    "<br>\n",
    "i will relate crime to school ratings and education levels using common location data.\n",
    "\n",
    "*How will you use this data to answer your project question?*\n",
    "<br>\n",
    "i will use location data to show maps (heat maps). I will answer the question by showing a connection between crime and education using location data. I will see how scores for schools could be impacted, and will try to see if improving school performance can lower crime rates."
   ]
  },
  {
   "cell_type": "code",
   "execution_count": null,
   "metadata": {},
   "outputs": [],
   "source": [
    "# Start your code here"
   ]
  }
 ],
 "metadata": {
  "kernelspec": {
   "display_name": "Python 3.10.6 64-bit",
   "language": "python",
   "name": "python3"
  },
  "language_info": {
   "name": "python",
   "version": "3.10.6"
  },
  "orig_nbformat": 4,
  "vscode": {
   "interpreter": {
    "hash": "77014858b17a155a80bfbfcfbe335cee4ab2e1a53e6b44f51ed6c34a185e1e1c"
   }
  }
 },
 "nbformat": 4,
 "nbformat_minor": 2
}
