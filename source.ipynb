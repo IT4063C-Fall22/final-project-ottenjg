{
 "cells": [
  {
   "cell_type": "markdown",
   "metadata": {},
   "source": [
    "# Project Title"
   ]
  },
  {
   "cell_type": "markdown",
   "metadata": {},
   "source": [
    "## Topic\n",
    "*What problem are you (or your stakeholder) trying to address?*\n",
    "<br>\n",
    "The effect education has on crime rates in Cincinnati\n",
    "\n",
    "\n",
    "## Project Question\n",
    "*What specific question are you seeking to answer with this project?*\n",
    "*This is not the same as the questions you ask to limit the scope of the project.*\n",
    "<br>\n",
    "What is the coorelation education has to rising or falling crime rates in Cincinnati?\n",
    "<br>\n",
    "How much of a difference do investments in education or a school district as a whole affect the crime rates in that school district?\n",
    "<br>\n",
    "Which areas show the biggest coorelation between education and crime rates, and which ones show the least?\n",
    "\n",
    "## What would an answer look like?\n",
    "*What is your hypothesized answer to your question?*\n",
    "<br>\n",
    "I would still be using geographical charts and models like heat maps. I would use line graphs to compare education level/investment amounts to crime rates. Bar charts would be useful as well. \n",
    "<br>\n",
    "An answer I want to see or atleast an outcome would be to help create solutions to crime rates using education. \n",
    "<br>\n",
    "I would like to see the effect investments have on education improvement as well. \n",
    "\n",
    "\n",
    "## Data Sources\n",
    "*What 3 data sources have you identified for this project?*\n",
    "*How are you going to relate these datasets?*\n",
    "*How will you use this data to answer your project question?*"
   ]
  },
  {
   "cell_type": "code",
   "execution_count": null,
   "metadata": {},
   "outputs": [],
   "source": [
    "# Start your code here"
   ]
  }
 ],
 "metadata": {
  "kernelspec": {
   "display_name": "Python 3.10.6 ('Final-Project-Template-UYdCtl0n')",
   "language": "python",
   "name": "python3"
  },
  "language_info": {
   "name": "python",
   "version": "3.10.6"
  },
  "orig_nbformat": 4,
  "vscode": {
   "interpreter": {
    "hash": "7734e43dd536b5e02e3115303df8b362ef1a9d3876915ee490824d9f1e5197ff"
   }
  }
 },
 "nbformat": 4,
 "nbformat_minor": 2
}
